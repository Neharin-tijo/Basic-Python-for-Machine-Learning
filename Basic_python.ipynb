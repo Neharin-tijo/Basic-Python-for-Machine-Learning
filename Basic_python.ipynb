{
  "nbformat": 4,
  "nbformat_minor": 0,
  "metadata": {
    "colab": {
      "provenance": [],
      "authorship_tag": "ABX9TyOaiRkddgsWbf/vHGyjinNj",
      "include_colab_link": true
    },
    "kernelspec": {
      "name": "python3",
      "display_name": "Python 3"
    },
    "language_info": {
      "name": "python"
    }
  },
  "cells": [
    {
      "cell_type": "markdown",
      "metadata": {
        "id": "view-in-github",
        "colab_type": "text"
      },
      "source": [
        "<a href=\"https://colab.research.google.com/github/Neharin-tijo/Basic-Python-for-Machine-Learning/blob/main/Basic_python.ipynb\" target=\"_parent\"><img src=\"https://colab.research.google.com/assets/colab-badge.svg\" alt=\"Open In Colab\"/></a>"
      ]
    },
    {
      "cell_type": "markdown",
      "source": [
        "# Introduction to `Python`\n",
        "\n",
        "First program: Displays a Hello"
      ],
      "metadata": {
        "id": "2M2Y8sBe7JGc"
      }
    },
    {
      "cell_type": "code",
      "source": [
        "print(\"Hello\")"
      ],
      "metadata": {
        "colab": {
          "base_uri": "https://localhost:8080/"
        },
        "id": "o93GxElU755U",
        "outputId": "cd1431a8-071c-4d41-c869-13b2e2c3fb2f"
      },
      "execution_count": 1,
      "outputs": [
        {
          "output_type": "stream",
          "name": "stdout",
          "text": [
            "Hello\n"
          ]
        }
      ]
    },
    {
      "cell_type": "markdown",
      "source": [
        ">Program to assign an integer and display it"
      ],
      "metadata": {
        "id": "K7HeHoaW9P0v"
      }
    },
    {
      "cell_type": "code",
      "source": [
        "a=10\n",
        "print(\"Value of the variable a is:\",a)"
      ],
      "metadata": {
        "colab": {
          "base_uri": "https://localhost:8080/"
        },
        "id": "gD3ssPER80F8",
        "outputId": "99cb1204-e3fe-4c8b-864c-1b06f871bfc1"
      },
      "execution_count": 3,
      "outputs": [
        {
          "output_type": "stream",
          "name": "stdout",
          "text": [
            "Value of the variable a is: 10\n"
          ]
        }
      ]
    },
    {
      "cell_type": "markdown",
      "source": [
        ">Program to find sum of two numbers"
      ],
      "metadata": {
        "id": "2YwOhMLF-F9s"
      }
    },
    {
      "cell_type": "code",
      "source": [
        "a=10\n",
        "b=20\n",
        "sum=a+b\n",
        "print(\"The sum od numbers is:\",sum)"
      ],
      "metadata": {
        "colab": {
          "base_uri": "https://localhost:8080/"
        },
        "id": "aXcydYc9-Loz",
        "outputId": "388132cc-edcb-4a14-b7d0-26e1218a9d62"
      },
      "execution_count": 4,
      "outputs": [
        {
          "output_type": "stream",
          "name": "stdout",
          "text": [
            "The sum od numbers is: 30\n"
          ]
        }
      ]
    },
    {
      "cell_type": "markdown",
      "source": [
        ">Read two numbers from the user and find the sum"
      ],
      "metadata": {
        "id": "gGi-VU2P-aZ8"
      }
    },
    {
      "cell_type": "code",
      "source": [
        "a=int(input(\"Enter the first number:\")) # here input function read values as strings. int() cast it to integer"
      ],
      "metadata": {
        "colab": {
          "base_uri": "https://localhost:8080/"
        },
        "id": "rvKZC0TT-gfc",
        "outputId": "5049585b-9b8e-4ebf-dae6-50b819bb264a"
      },
      "execution_count": 9,
      "outputs": [
        {
          "name": "stdout",
          "output_type": "stream",
          "text": [
            "Enter the first number:12\n"
          ]
        }
      ]
    },
    {
      "cell_type": "code",
      "source": [
        "b=int(input(\"Enter the second number\"))"
      ],
      "metadata": {
        "colab": {
          "base_uri": "https://localhost:8080/"
        },
        "id": "yWD46oUw-pIN",
        "outputId": "5b42e6ef-7def-485c-e811-0133e7fa8629"
      },
      "execution_count": 10,
      "outputs": [
        {
          "name": "stdout",
          "output_type": "stream",
          "text": [
            "Enter the second number78\n"
          ]
        }
      ]
    },
    {
      "cell_type": "code",
      "source": [
        "#display a and b\n",
        "print(a)"
      ],
      "metadata": {
        "colab": {
          "base_uri": "https://localhost:8080/"
        },
        "id": "VImYwgTD_GL8",
        "outputId": "71765d80-d4a2-42d8-87b1-0164ac042048"
      },
      "execution_count": 11,
      "outputs": [
        {
          "output_type": "stream",
          "name": "stdout",
          "text": [
            "12\n"
          ]
        }
      ]
    },
    {
      "cell_type": "code",
      "source": [
        "sum=a+b\n",
        "print(sum)"
      ],
      "metadata": {
        "colab": {
          "base_uri": "https://localhost:8080/"
        },
        "id": "QiTohaU__MzT",
        "outputId": "063ff689-4138-41d3-efd7-01fec0b08a6b"
      },
      "execution_count": 12,
      "outputs": [
        {
          "output_type": "stream",
          "name": "stdout",
          "text": [
            "90\n"
          ]
        }
      ]
    }
  ]
}