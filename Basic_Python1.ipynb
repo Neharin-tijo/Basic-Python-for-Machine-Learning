{
  "nbformat": 4,
  "nbformat_minor": 0,
  "metadata": {
    "colab": {
      "provenance": [],
      "authorship_tag": "ABX9TyNXuW+lyLCWURW+Ort6Irdm",
      "include_colab_link": true
    },
    "kernelspec": {
      "name": "python3",
      "display_name": "Python 3"
    },
    "language_info": {
      "name": "python"
    }
  },
  "cells": [
    {
      "cell_type": "markdown",
      "metadata": {
        "id": "view-in-github",
        "colab_type": "text"
      },
      "source": [
        "<a href=\"https://colab.research.google.com/github/Neharin-tijo/Basic-Python-for-Machine-Learning/blob/main/Basic_Python1.ipynb\" target=\"_parent\"><img src=\"https://colab.research.google.com/assets/colab-badge.svg\" alt=\"Open In Colab\"/></a>"
      ]
    },
    {
      "cell_type": "markdown",
      "source": [
        "# **Python Basics**"
      ],
      "metadata": {
        "id": "Tuz1WoA544qn"
      }
    },
    {
      "cell_type": "code",
      "source": [
        "# printing a string\n",
        "print(\"Hello,Python!\")\n",
        "print(\"hi\")"
      ],
      "metadata": {
        "colab": {
          "base_uri": "https://localhost:8080/"
        },
        "id": "4sX0TIGnDTCJ",
        "outputId": "f941489a-2634-4e1a-fdf7-57a9d86a2846"
      },
      "execution_count": 2,
      "outputs": [
        {
          "output_type": "stream",
          "name": "stdout",
          "text": [
            "Hello,Python!\n",
            "hi\n"
          ]
        }
      ]
    },
    {
      "cell_type": "markdown",
      "source": [
        ">Variables"
      ],
      "metadata": {
        "id": "tf8ib8UM5PHB"
      }
    },
    {
      "cell_type": "code",
      "source": [
        "# defining a variable : In python there is no need to mention the datatype\n",
        "\n",
        "var1=10      # An integer assignment\n",
        "var2=3.146   # A floating point\n",
        "var3=\"Hello\" # A string\n",
        "print(var1,' ',var2,' ',var3) "
      ],
      "metadata": {
        "colab": {
          "base_uri": "https://localhost:8080/"
        },
        "id": "t4Pa6lJl5ZsP",
        "outputId": "21cba84c-f560-4298-ca54-207a9388265e"
      },
      "execution_count": 2,
      "outputs": [
        {
          "output_type": "stream",
          "name": "stdout",
          "text": [
            "10   3.146   Hello\n"
          ]
        }
      ]
    },
    {
      "cell_type": "code",
      "source": [
        "pi=3.14\n",
        "print(\"Value of pi is\",pi)"
      ],
      "metadata": {
        "colab": {
          "base_uri": "https://localhost:8080/"
        },
        "id": "sSYw9WAsjfym",
        "outputId": "9bc1371d-2c8c-44c8-cb01-b96aec3d064c"
      },
      "execution_count": 3,
      "outputs": [
        {
          "output_type": "stream",
          "name": "stdout",
          "text": [
            "Value of pi is 3.14\n"
          ]
        }
      ]
    },
    {
      "cell_type": "markdown",
      "source": [
        ">Assignment"
      ],
      "metadata": {
        "id": "d6mXEfdh6iIQ"
      }
    },
    {
      "cell_type": "code",
      "source": [
        "# Assigning same value to multiple variables\n",
        "\n",
        "var1=var2=var3=1\n",
        "print(var1,' ',var2,' ',var3,' ')\n",
        "\n",
        "# Assigning different values to variables in a single expression\n",
        "\n",
        "var1,var2,var3=1,2.5,\"John\"\n",
        "print(var1,' ',var2,' ',var3)\n",
        "\n",
        "# Note: commas can be used for multi-assignments"
      ],
      "metadata": {
        "colab": {
          "base_uri": "https://localhost:8080/"
        },
        "id": "hfAeDr-76kn1",
        "outputId": "560bc797-f908-417a-dba7-1b3b4e90b531"
      },
      "execution_count": 3,
      "outputs": [
        {
          "output_type": "stream",
          "name": "stdout",
          "text": [
            "1   1   1  \n",
            "1   2.5   John\n"
          ]
        }
      ]
    },
    {
      "cell_type": "markdown",
      "source": [
        "# Slicing"
      ],
      "metadata": {
        "id": "5nQNlI8u8R6Q"
      }
    },
    {
      "cell_type": "code",
      "source": [
        "# String operations\n",
        "\n",
        "str=\"Hello World!\"   # A string\n",
        "print(str)           # prints complete string\n",
        "print(str[0])        # prints first character of string\n",
        "print(str[2:5])      # prints characters starting from 3rd to 5th element\n",
        "print(str[2:])       # prints string starting from 3rd character\n",
        "print(str[:2])       \n",
        "print(str * 2)       # prints string 2 times\n",
        "print(str + \"TEST\")  # print concatenated string"
      ],
      "metadata": {
        "colab": {
          "base_uri": "https://localhost:8080/"
        },
        "id": "PWKCf3Ax8Up1",
        "outputId": "146f891f-cc29-4ac3-b41b-afdb4791d444"
      },
      "execution_count": 4,
      "outputs": [
        {
          "output_type": "stream",
          "name": "stdout",
          "text": [
            "Hello World!\n",
            "H\n",
            "llo\n",
            "llo World!\n",
            "He\n",
            "Hello World!Hello World!\n",
            "Hello World!TEST\n"
          ]
        }
      ]
    },
    {
      "cell_type": "markdown",
      "source": [
        "# Data Types"
      ],
      "metadata": {
        "id": "JnNctZDq_EkW"
      }
    },
    {
      "cell_type": "code",
      "source": [
        "# Python Lists\n",
        "\n",
        "list = ['abcd',786,2.23,'john',70.2]  # A list\n",
        "tuple = ('abcd',786,2.23,'john',70.2) # A tuple. Tuples are immutable, i.e. cannot be edit later\n",
        "\n",
        "print(list)        # prints complete list \n",
        "print(list[0])     # prints 1st element of list\n",
        "print(tuple[1:3])  # prints elements starting from 2nd till 3rd\n",
        "\n",
        "list[0]='fgg'"
      ],
      "metadata": {
        "colab": {
          "base_uri": "https://localhost:8080/"
        },
        "id": "mSfVbtbB_DTI",
        "outputId": "5f67ab01-6b1f-454e-bd3b-9c6fe7a8c282"
      },
      "execution_count": 5,
      "outputs": [
        {
          "output_type": "stream",
          "name": "stdout",
          "text": [
            "['abcd', 786, 2.23, 'john', 70.2]\n",
            "abcd\n",
            "(786, 2.23)\n"
          ]
        }
      ]
    },
    {
      "cell_type": "markdown",
      "source": [
        "# Conditioning and looping"
      ],
      "metadata": {
        "id": "N-y16_c3A7ay"
      }
    },
    {
      "cell_type": "code",
      "source": [
        "# square of even numbers\n",
        "\n",
        "for i in range(0,10):\n",
        "  if i % 2 == 0:\n",
        "    print(\"Square of\",i,\"is\",i*i)\n",
        "  else:\n",
        "    print(i,\"is an odd number\")"
      ],
      "metadata": {
        "colab": {
          "base_uri": "https://localhost:8080/"
        },
        "id": "tThYDZ5OAu3R",
        "outputId": "ccbdeb9e-345a-4e81-8a48-7fea8cba544f"
      },
      "execution_count": 10,
      "outputs": [
        {
          "output_type": "stream",
          "name": "stdout",
          "text": [
            "Square of 0 is 0\n",
            "1 is an odd number\n",
            "Square of 2 is 4\n",
            "3 is an odd number\n",
            "Square of 4 is 16\n",
            "5 is an odd number\n",
            "Square of 6 is 36\n",
            "7 is an odd number\n",
            "Square of 8 is 64\n",
            "9 is an odd number\n"
          ]
        }
      ]
    },
    {
      "cell_type": "markdown",
      "source": [
        "# Built-in functions"
      ],
      "metadata": {
        "id": "yDCMs5cTCGdr"
      }
    },
    {
      "cell_type": "code",
      "source": [
        "print(\"Sum of array:\",sum([1,2,3,4]))\n",
        "print(\"Length of array:\",len([1,2,3,4]))\n",
        "print(\"Absolute value:\",abs(-1234))\n",
        "print(\"Round value:\",round(1.223))\n",
        "\n",
        "import math as mt    # importing a package\n",
        "print(\"Log value:\",mt.log(10))"
      ],
      "metadata": {
        "colab": {
          "base_uri": "https://localhost:8080/"
        },
        "id": "JzYNEG5CCFIe",
        "outputId": "9da87f2b-f8ac-45da-dee4-78ed8c4f3ade"
      },
      "execution_count": 12,
      "outputs": [
        {
          "output_type": "stream",
          "name": "stdout",
          "text": [
            "Sum of array: 10\n",
            "Length of array: 4\n",
            "Absolute value: 1234\n",
            "Round value: 1\n",
            "Log value: 2.302585092994046\n"
          ]
        }
      ]
    },
    {
      "cell_type": "markdown",
      "source": [
        "#Functions"
      ],
      "metadata": {
        "id": "n2rdoo52HC4T"
      }
    },
    {
      "cell_type": "code",
      "source": [
        "def area(length,width):\n",
        "  return length*width\n",
        "are=area(10,20)\n",
        "print(\"Area of rectangle:\",are)"
      ],
      "metadata": {
        "colab": {
          "base_uri": "https://localhost:8080/"
        },
        "id": "9zJHmfV1hwzD",
        "outputId": "12711e30-e7ad-4afe-e65c-c162c299ef14"
      },
      "execution_count": 1,
      "outputs": [
        {
          "output_type": "stream",
          "name": "stdout",
          "text": [
            "Area of rectangle: 200\n"
          ]
        }
      ]
    },
    {
      "cell_type": "markdown",
      "source": [
        "#Broadcasting\n",
        "\n",
        "*   Subject to certain constraints, the smaller array is “broadcast” across the larger array so that they have compatible shapes\n",
        "#NumPy\n",
        "*Numpy is the fundamental package for numerical computing with Python. It contains among other things:\n",
        "*  a powerful N-dimensional array object\n",
        "*  sophisticated (broadcasting) functions\n",
        "*  tools for integrating C/C++ and Fortran code\n",
        "*  useful linear algebra, Fourier transform, and random number capabilities\n",
        "*  Details of numpy   \n",
        "\n"
      ],
      "metadata": {
        "id": "Qcc9EIFbj5o7"
      }
    },
    {
      "cell_type": "code",
      "source": [
        "import numpy as np   # Importing libraries\n",
        "\n",
        "a = np.array([0, 1, 2])\n",
        "b = np.array([5, 5, 5])\n",
        "print(\"Matrix A\\n\", a)\n",
        "print(\"Matrix B\\n\", b)\n",
        "print(\"Regular matrix addition A+B\\n\", a + b)\n",
        "print(\"Addition using Broadcasting A+5\\n\", a + 5)"
      ],
      "metadata": {
        "colab": {
          "base_uri": "https://localhost:8080/"
        },
        "id": "y_F8uDBnlKho",
        "outputId": "1f4f2596-6967-48c2-e320-e94671727928"
      },
      "execution_count": 4,
      "outputs": [
        {
          "output_type": "stream",
          "name": "stdout",
          "text": [
            "Matrix A\n",
            " [0 1 2]\n",
            "Matrix B\n",
            " [5 5 5]\n",
            "Regular matrix addition A+B\n",
            " [5 6 7]\n",
            "Addition using Broadcasting A+5\n",
            " [5 6 7]\n"
          ]
        }
      ]
    },
    {
      "cell_type": "markdown",
      "source": [
        "#Broadcasting Rules\n",
        "When operating on two arrays, NumPy compares their shapes element-wise. It starts with the trailing dimensions, and works its way forward. Two dimensions are compatible when\n",
        "1.   they are equal, or\n",
        "2.   one of them is 1"
      ],
      "metadata": {
        "id": "6xE0BoMJlWya"
      }
    },
    {
      "cell_type": "code",
      "source": [
        "# Lets go for a 2D matrix\n",
        "c = np.array([[0, 1, 2],[3, 4, 5],[6, 7, 8]])\n",
        "d = np.array([[1, 2, 3],[1, 2, 3],[1, 2, 3]])\n",
        "e = np.array([1, 2, 3])\n",
        "print(\"Matrix C\\n\", c)\n",
        "print(\"Matrix D\\n\", d)\n",
        "print(\"Matrix E\\n\", e)\n",
        "print(\"Regular matrix addition C+D\\n\", c + d)\n",
        "print(\"Addition using Broadcasting C+E\\n\", c + e)"
      ],
      "metadata": {
        "colab": {
          "base_uri": "https://localhost:8080/"
        },
        "id": "AlDDfb6_lXcp",
        "outputId": "3a59f469-e4c7-435e-8ca4-9c49b89b5507"
      },
      "execution_count": 5,
      "outputs": [
        {
          "output_type": "stream",
          "name": "stdout",
          "text": [
            "Matrix C\n",
            " [[0 1 2]\n",
            " [3 4 5]\n",
            " [6 7 8]]\n",
            "Matrix D\n",
            " [[1 2 3]\n",
            " [1 2 3]\n",
            " [1 2 3]]\n",
            "Matrix E\n",
            " [1 2 3]\n",
            "Regular matrix addition C+D\n",
            " [[ 1  3  5]\n",
            " [ 4  6  8]\n",
            " [ 7  9 11]]\n",
            "Addition using Broadcasting C+E\n",
            " [[ 1  3  5]\n",
            " [ 4  6  8]\n",
            " [ 7  9 11]]\n"
          ]
        }
      ]
    },
    {
      "cell_type": "code",
      "source": [
        "M = np.ones((3, 3))\n",
        "print(\"Matrix M:\\n\",M)"
      ],
      "metadata": {
        "colab": {
          "base_uri": "https://localhost:8080/"
        },
        "id": "WguBIBzVmC22",
        "outputId": "744aa954-4cd7-4408-8f30-196d012822d3"
      },
      "execution_count": 6,
      "outputs": [
        {
          "output_type": "stream",
          "name": "stdout",
          "text": [
            "Matrix M:\n",
            " [[1. 1. 1.]\n",
            " [1. 1. 1.]\n",
            " [1. 1. 1.]]\n"
          ]
        }
      ]
    },
    {
      "cell_type": "code",
      "source": [
        "print(\"Dimension of M:\",M.shape)\n",
        "print(\"Dimension od a:\",a.shape)\n",
        "print(\"Addition using Broadcasting\")\n",
        "print(M+a)\n",
        "#Broadcasting of array with matrix"
      ],
      "metadata": {
        "colab": {
          "base_uri": "https://localhost:8080/"
        },
        "id": "hIN_EV3znZ9G",
        "outputId": "f411a4fc-71bf-44be-821c-de6fab819019"
      },
      "execution_count": 7,
      "outputs": [
        {
          "output_type": "stream",
          "name": "stdout",
          "text": [
            "Dimension of M: (3, 3)\n",
            "Dimension od a: (3,)\n",
            "Addition using Broadcasting\n",
            "[[1. 2. 3.]\n",
            " [1. 2. 3.]\n",
            " [1. 2. 3.]]\n"
          ]
        }
      ]
    },
    {
      "cell_type": "markdown",
      "source": [
        "#All in one program"
      ],
      "metadata": {
        "id": "GYlg8bZ4n4-0"
      }
    },
    {
      "cell_type": "code",
      "source": [
        "# Importing libraries\n",
        "import timeit\n",
        "\n",
        "# Usage of builtin functions\n",
        "start = timeit.default_timer()   \n",
        "\n",
        "# Defining a list\n",
        "array_list = [10,11,15,19,21,32]      \n",
        "array_np_list = []\n",
        "\n",
        "# Print the list\n",
        "print(\"Original List\",array_list,\"\\n\")   \n",
        "\n",
        "# Defining a function\n",
        "def prime(num):      \n",
        "    if num > 1:     \n",
        "        \n",
        "        # check for factors\n",
        "        # Iterating a range of numbers\n",
        "        for i in range(2,num):    \n",
        "            if (num % i) == 0:\n",
        "                \n",
        "                # Appending data to list\n",
        "                array_np_list.append(num)           \n",
        "                print(num,\"is not a prime number (\",i,\"times\",num//i,\"is\",num,\")\")\n",
        "                \n",
        "                # Terminating a loop run\n",
        "                break         \n",
        "        else:\n",
        "            print(num,\"is a prime number\")\n",
        "            \n",
        "# Iterating a list\n",
        "for item in array_list:\n",
        "    \n",
        "    # Calling a function\n",
        "    prime(item)         \n",
        "\n",
        "print(\"\\nNon-prime List\",array_np_list,\"\\n\")\n",
        "\n",
        "end = timeit.default_timer()\n",
        "\n",
        "# Computing running time\n",
        "print(\"Time Taken to run the program:\",end - start, \"seconds\")       "
      ],
      "metadata": {
        "colab": {
          "base_uri": "https://localhost:8080/"
        },
        "id": "sSx8EyTwn75h",
        "outputId": "00b7a863-6ec1-4de2-8848-4af3d49ea08e"
      },
      "execution_count": 8,
      "outputs": [
        {
          "output_type": "stream",
          "name": "stdout",
          "text": [
            "Original List [10, 11, 15, 19, 21, 32] \n",
            "\n",
            "10 is not a prime number ( 2 times 5 is 10 )\n",
            "11 is a prime number\n",
            "15 is not a prime number ( 3 times 5 is 15 )\n",
            "19 is a prime number\n",
            "21 is not a prime number ( 3 times 7 is 21 )\n",
            "32 is not a prime number ( 2 times 16 is 32 )\n",
            "\n",
            "Non-prime List [10, 15, 21, 32] \n",
            "\n",
            "Time Taken to run the program: 0.006007200000112789 seconds\n"
          ]
        }
      ]
    },
    {
      "cell_type": "markdown",
      "source": [
        "Note:\n",
        "*   Python is a procedural Language\n",
        "*   Two versions of Python 2 vs 3\n",
        "*   No braces. i.e. indentation\n",
        "*   No need to explicitly mention data type"
      ],
      "metadata": {
        "id": "OcJ8eX-Kofpa"
      }
    },
    {
      "cell_type": "code",
      "source": [],
      "metadata": {
        "id": "kn_5FhgIo4z-"
      },
      "execution_count": null,
      "outputs": []
    }
  ]
}