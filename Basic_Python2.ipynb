{
  "nbformat": 4,
  "nbformat_minor": 0,
  "metadata": {
    "colab": {
      "provenance": [],
      "authorship_tag": "ABX9TyNAKV0C96GS++44IiJkwVXL",
      "include_colab_link": true
    },
    "kernelspec": {
      "name": "python3",
      "display_name": "Python 3"
    },
    "language_info": {
      "name": "python"
    }
  },
  "cells": [
    {
      "cell_type": "markdown",
      "metadata": {
        "id": "view-in-github",
        "colab_type": "text"
      },
      "source": [
        "<a href=\"https://colab.research.google.com/github/Neharin-tijo/Basic-Python-for-Machine-Learning/blob/main/Basic_Python2.ipynb\" target=\"_parent\"><img src=\"https://colab.research.google.com/assets/colab-badge.svg\" alt=\"Open In Colab\"/></a>"
      ]
    },
    {
      "cell_type": "markdown",
      "source": [
        "###Basic Programs\n",
        "\n",
        "List"
      ],
      "metadata": {
        "id": "fQ_FcuF3MQJY"
      }
    },
    {
      "cell_type": "code",
      "execution_count": 1,
      "metadata": {
        "colab": {
          "base_uri": "https://localhost:8080/"
        },
        "id": "FDw72SsaLJAN",
        "outputId": "385f0af6-ef85-4bd2-a696-61fa84b9f888"
      },
      "outputs": [
        {
          "output_type": "stream",
          "name": "stdout",
          "text": [
            "{'jack': 4098, 'sape': 4139, 'guido': 4127}\n",
            "4098\n",
            "{'jack': 4098, 'guido': 4127, 'irv': 4127}\n",
            "dict_keys(['jack', 'guido', 'irv'])\n",
            "['guido', 'irv', 'jack']\n",
            "[4098, 4127, 4127]\n",
            "True\n",
            "False\n"
          ]
        }
      ],
      "source": [
        "# Lists are ordered sets of objects, whereas dictionaries are unordered sets. But the main difference is that items in dictionaries are accessed via keys and not via their position.\n",
        "tel = {'jack': 4098, 'sape': 4139}\n",
        "tel['guido'] = 4127\n",
        "print(tel)\n",
        "print(tel['jack'])\n",
        "del tel['sape']\n",
        "tel['irv'] = 4127\n",
        "print(tel)\n",
        "print(tel.keys())\n",
        "print(sorted(tel.keys()))\n",
        "print(sorted(tel.values()))\n",
        "print('guido' in tel)\n",
        "print('jack' not in tel)"
      ]
    },
    {
      "cell_type": "markdown",
      "source": [
        "### Unvectorized vs Vectorized Implementations"
      ],
      "metadata": {
        "id": "aySAz7-CMOR2"
      }
    },
    {
      "cell_type": "code",
      "source": [
        "# Importing libraries\n",
        "import numpy as np\n",
        "\n",
        "# Defining matrices\n",
        "mat_a = [[6, 7, 8],[5, 4, 5],[1, 1, 1]]\n",
        "mat_b = [[1, 2, 3],[1, 2, 3],[1, 2, 3]]\n",
        "\n",
        "# Getting a row from matrix\n",
        "def get_row(matrix, row):\n",
        "    return matrix[row]\n",
        "\n",
        "# Getting a coloumn from matrix\n",
        "def get_column(matrix, column_number):\n",
        "    column = []\n",
        " \n",
        "    for i in range(len(matrix)):\n",
        "        column.append(matrix[i][column_number])\n",
        " \n",
        "    return column\n",
        "\n",
        "# Multiply a row with coloumn\n",
        "def unv_dot_product(vector_one, vector_two):\n",
        "    total = 0\n",
        " \n",
        "    if len(vector_one) != len(vector_two):\n",
        "        return total\n",
        " \n",
        "    for i in range(len(vector_one)):\n",
        "        product = vector_one[i] * vector_two[i]\n",
        "        total += product\n",
        " \n",
        "    return total\n",
        "\n",
        "# Multiply two matrixes\n",
        "def matrix_multiplication(matrix_one, matrix_two):\n",
        "    m_rows = len(matrix_one)\n",
        "    p_columns = len(matrix_two[0])\n",
        "    result = []\n",
        "    \n",
        "    for i in range(m_rows):\n",
        "        row_result = []\n",
        " \n",
        "        for j in range(p_columns):\n",
        "            row = get_row(matrix_one, i)\n",
        "            column = get_column(matrix_two, j)\n",
        "            product = unv_dot_product(row, column)\n",
        "            \n",
        "            row_result.append(product) \n",
        "        result.append(row_result)\n",
        "        \n",
        "    return result\n",
        "\n",
        "print(\"Matrix A: \", mat_a,\"\\n\")\n",
        "print(\"Matrix B: \", mat_b,\"\\n\")\n",
        "#mat_a.dot(mat_b)\n",
        "print(\"Unvectorized Matrix Multiplication\\n\",matrix_multiplication(mat_a,mat_b),\"\\n\")\n"
      ],
      "metadata": {
        "colab": {
          "base_uri": "https://localhost:8080/"
        },
        "id": "A_4NV8GwM8xL",
        "outputId": "922832a7-9641-4478-ab50-8514ebf81897"
      },
      "execution_count": 12,
      "outputs": [
        {
          "output_type": "stream",
          "name": "stdout",
          "text": [
            "Matrix A:  [[6, 7, 8], [5, 4, 5], [1, 1, 1]] \n",
            "\n",
            "Matrix B:  [[1, 2, 3], [1, 2, 3], [1, 2, 3]] \n",
            "\n",
            "Unvectorized Matrix Multiplication\n",
            " [[21, 42, 63], [14, 28, 42], [3, 6, 9]] \n",
            "\n"
          ]
        }
      ]
    },
    {
      "cell_type": "code",
      "source": [
        "# Vectorized Implementation\n",
        "npm_a = np.array(mat_a)\n",
        "npm_b = np.array(mat_b)\n",
        "\n",
        "print(\"Vectorized Matrix Multiplication\\n\",npm_a.dot(npm_b),\"\\n\") \n",
        "# A.dot(B) is a numpy built-in function for dot product"
      ],
      "metadata": {
        "colab": {
          "base_uri": "https://localhost:8080/"
        },
        "id": "CYZe9F4VP4cl",
        "outputId": "6c496858-0aa4-4da0-9e5e-5978dcc12845"
      },
      "execution_count": 13,
      "outputs": [
        {
          "output_type": "stream",
          "name": "stdout",
          "text": [
            "Vectorized Matrix Multiplication\n",
            " [[21 42 63]\n",
            " [14 28 42]\n",
            " [ 3  6  9]] \n",
            "\n"
          ]
        }
      ]
    },
    {
      "cell_type": "markdown",
      "source": [
        "### Tip:\n",
        "* Vectorization reduces number of lines of code\n",
        "* Always prefer libraries and avoid coding from scratch"
      ],
      "metadata": {
        "id": "iqOUzDrKP-I5"
      }
    },
    {
      "cell_type": "markdown",
      "source": [
        "## Essential Python Packages: Numpy, Pandas, Matplotlib\n"
      ],
      "metadata": {
        "id": "7oVKneHqQIVy"
      }
    },
    {
      "cell_type": "code",
      "source": [
        "# Load library\n",
        "import numpy as np"
      ],
      "metadata": {
        "id": "O6YzwUi4QNaM"
      },
      "execution_count": 14,
      "outputs": []
    },
    {
      "cell_type": "code",
      "source": [
        "# Create matrix\n",
        "matrix = np.array([[1, 2, 3],\n",
        "                   [4, 5, 6],\n",
        "                   [7, 8, 9]])\n",
        "\n",
        "print(\"Matrix\\n\",matrix)\n",
        "\n",
        "# Select second row\n",
        "print(\"Second row of Matrix\\n\",matrix[1,:])\n",
        "print(\"Third coloumn of Matrix\\n\",matrix[:,2])"
      ],
      "metadata": {
        "colab": {
          "base_uri": "https://localhost:8080/"
        },
        "id": "U35e_sQmQN0l",
        "outputId": "5c909425-1bde-46e0-8aca-113ed78b60ac"
      },
      "execution_count": 15,
      "outputs": [
        {
          "output_type": "stream",
          "name": "stdout",
          "text": [
            "Matrix\n",
            " [[1 2 3]\n",
            " [4 5 6]\n",
            " [7 8 9]]\n",
            "Second row of Matrix\n",
            " [4 5 6]\n",
            "Third coloumn of Matrix\n",
            " [3 6 9]\n"
          ]
        }
      ]
    },
    {
      "cell_type": "code",
      "source": [
        "# Create Tensor\n",
        "tensor = np.array([ [[[1, 1], [1, 1]], [[2, 2], [2, 2]]],\n",
        "                    [[[3, 3], [3, 3]], [[4, 4], [4, 4]]] ])\n",
        "\n",
        "print(\"Tensor\\n\",tensor)"
      ],
      "metadata": {
        "colab": {
          "base_uri": "https://localhost:8080/"
        },
        "id": "BUmYL15vQXDj",
        "outputId": "2a9683b2-d6e7-4132-de19-6f9be8b42882"
      },
      "execution_count": 16,
      "outputs": [
        {
          "output_type": "stream",
          "name": "stdout",
          "text": [
            "Tensor\n",
            " [[[[1 1]\n",
            "   [1 1]]\n",
            "\n",
            "  [[2 2]\n",
            "   [2 2]]]\n",
            "\n",
            "\n",
            " [[[3 3]\n",
            "   [3 3]]\n",
            "\n",
            "  [[4 4]\n",
            "   [4 4]]]]\n"
          ]
        }
      ]
    },
    {
      "cell_type": "markdown",
      "source": [
        "### Matrix properties"
      ],
      "metadata": {
        "id": "b2VaUlLfQg8e"
      }
    },
    {
      "cell_type": "code",
      "source": [
        "# Create matrix\n",
        "matrix = np.array([[1, 2, 3],\n",
        "                   [4, 5, 6],\n",
        "                   [7, 8, 9]])\n",
        "\n",
        "print(\"Matrix Shape:\",matrix.shape)\n",
        "print(\"Number of elements:\",matrix.size)\n",
        "print(\"Number of dimentions:\",matrix.ndim)\n",
        "print(\"Average of matrix:\",np.mean(matrix))\n",
        "print(\"Maximum number:\",np.max(matrix))\n",
        "print(\"Coloumn with minimum numbers:\",np.min(matrix, axis=1))\n",
        "print(\"Diagnol of matrix:\",matrix.diagonal())\n",
        "print(\"Determinant of matrix:\",np.linalg.det(matrix))"
      ],
      "metadata": {
        "colab": {
          "base_uri": "https://localhost:8080/"
        },
        "id": "TsuxbgYBQiCJ",
        "outputId": "66056351-19e9-4b8f-889e-da7cee035f05"
      },
      "execution_count": 17,
      "outputs": [
        {
          "output_type": "stream",
          "name": "stdout",
          "text": [
            "Matrix Shape: (3, 3)\n",
            "Number of elements: 9\n",
            "Number of dimentions: 2\n",
            "Average of matrix: 5.0\n",
            "Maximum number: 9\n",
            "Coloumn with minimum numbers: [1 4 7]\n",
            "Diagnol of matrix: [1 5 9]\n",
            "Determinant of matrix: 0.0\n"
          ]
        }
      ]
    },
    {
      "cell_type": "markdown",
      "source": [
        "###Matrix operations"
      ],
      "metadata": {
        "id": "5C-mG2G5TG3o"
      }
    },
    {
      "cell_type": "code",
      "source": [
        "print(\"Flattened Matrix\\n\",matrix.flatten())\n",
        "print(\"Reshaping Matrix\\n\",matrix.reshape(9,1))\n",
        "print(\"Transposed Matrix\\n\",matrix.T)"
      ],
      "metadata": {
        "colab": {
          "base_uri": "https://localhost:8080/"
        },
        "id": "oefSyw34QvMw",
        "outputId": "3dbb29ad-9baa-41a2-d607-5afb7e0dbeda"
      },
      "execution_count": 18,
      "outputs": [
        {
          "output_type": "stream",
          "name": "stdout",
          "text": [
            "Flattened Matrix\n",
            " [1 2 3 4 5 6 7 8 9]\n",
            "Reshaping Matrix\n",
            " [[1]\n",
            " [2]\n",
            " [3]\n",
            " [4]\n",
            " [5]\n",
            " [6]\n",
            " [7]\n",
            " [8]\n",
            " [9]]\n",
            "Transposed Matrix\n",
            " [[1 4 7]\n",
            " [2 5 8]\n",
            " [3 6 9]]\n"
          ]
        }
      ]
    },
    {
      "cell_type": "code",
      "source": [
        "# Create matrix\n",
        "matrix_a = np.array([[1, 1, 1],\n",
        "                     [1, 1, 1],\n",
        "                     [1, 1, 2]])\n",
        "\n",
        "# Create matrix\n",
        "matrix_b = np.array([[1, 3, 1],\n",
        "                     [1, 3, 1],\n",
        "                     [1, 3, 8]])\n",
        "\n",
        "print(\"Matrix Addition\\n\",np.add(matrix_a, matrix_b))\n",
        "print(\"Scalar Multiplication\\n\",np.multiply(matrix_a, matrix_b))\n",
        "print(\"Matrix Multiplication\\n\",np.dot(matrix_a, matrix_b))"
      ],
      "metadata": {
        "colab": {
          "base_uri": "https://localhost:8080/"
        },
        "id": "hCWQUh9GQx-n",
        "outputId": "ba8c1b15-3aba-4cc8-db0e-63d12507d0f3"
      },
      "execution_count": 19,
      "outputs": [
        {
          "output_type": "stream",
          "name": "stdout",
          "text": [
            "Matrix Addition\n",
            " [[ 2  4  2]\n",
            " [ 2  4  2]\n",
            " [ 2  4 10]]\n",
            "Scalar Multiplication\n",
            " [[ 1  3  1]\n",
            " [ 1  3  1]\n",
            " [ 1  3 16]]\n",
            "Matrix Multiplication\n",
            " [[ 3  9 10]\n",
            " [ 3  9 10]\n",
            " [ 4 12 18]]\n"
          ]
        }
      ]
    },
    {
      "cell_type": "markdown",
      "source": [
        "### Pandas\n",
        "Details of <a href=\"https://pandas.pydata.org/pandas-docs/stable/tutorials.html\"> pandas </a>"
      ],
      "metadata": {
        "id": "i1vJXLBpRCCj"
      }
    },
    {
      "cell_type": "code",
      "source": [
        "import pandas as pd"
      ],
      "metadata": {
        "id": "OorJf36VRDN3"
      },
      "execution_count": 20,
      "outputs": []
    },
    {
      "cell_type": "code",
      "source": [
        "df=pd.read_csv(\"https://raw.githubusercontent.com/sijuswamy/Basic-Python-for-Machine-Learning/main/Income.csv\")# load a file from github\n",
        "print(\"Data\\n\")\n",
        "df"
      ],
      "metadata": {
        "colab": {
          "base_uri": "https://localhost:8080/",
          "height": 680
        },
        "id": "LiM5dt4HRHTt",
        "outputId": "125b76c7-5b97-4668-ddbb-5365d5884eb1"
      },
      "execution_count": 21,
      "outputs": [
        {
          "output_type": "stream",
          "name": "stdout",
          "text": [
            "Data\n",
            "\n"
          ]
        },
        {
          "output_type": "execute_result",
          "data": {
            "text/plain": [
              "        ID  Income Category Place\n",
              "0    QSPD1  491282        A   PKN\n",
              "1    QSPD2  471283        A   IND\n",
              "2    QSPD3  340922        A   PKN\n",
              "3    QSPD4  201982        A   IND\n",
              "4    QSPD5  467411        B   PKN\n",
              "5    QSPD6  235213        B   IND\n",
              "6    QSPD7  349655        B   PKN\n",
              "7    QSPD8  136889        B   IND\n",
              "8    QSPD9  202381        C   PKN\n",
              "9   QSPD10  165088        C   IND\n",
              "10  QSPD11  262719        C   PKN\n",
              "11  QSPD12  238013        C   IND\n",
              "12  QSPD13  493651        T   PKN\n",
              "13  QSPD14  489394        T   IND\n",
              "14  QSPD15  202417        T   PKN\n",
              "15  QSPD16  353774        G   IND\n",
              "16  QSPD17  367731        G   PKN\n",
              "17  QSPD18  295396        G   IND\n",
              "18  QSPD19  472732        G   PKN"
            ],
            "text/html": [
              "\n",
              "  <div id=\"df-81aa3b4e-15c7-4a21-a061-fda40a88f8ad\">\n",
              "    <div class=\"colab-df-container\">\n",
              "      <div>\n",
              "<style scoped>\n",
              "    .dataframe tbody tr th:only-of-type {\n",
              "        vertical-align: middle;\n",
              "    }\n",
              "\n",
              "    .dataframe tbody tr th {\n",
              "        vertical-align: top;\n",
              "    }\n",
              "\n",
              "    .dataframe thead th {\n",
              "        text-align: right;\n",
              "    }\n",
              "</style>\n",
              "<table border=\"1\" class=\"dataframe\">\n",
              "  <thead>\n",
              "    <tr style=\"text-align: right;\">\n",
              "      <th></th>\n",
              "      <th>ID</th>\n",
              "      <th>Income</th>\n",
              "      <th>Category</th>\n",
              "      <th>Place</th>\n",
              "    </tr>\n",
              "  </thead>\n",
              "  <tbody>\n",
              "    <tr>\n",
              "      <th>0</th>\n",
              "      <td>QSPD1</td>\n",
              "      <td>491282</td>\n",
              "      <td>A</td>\n",
              "      <td>PKN</td>\n",
              "    </tr>\n",
              "    <tr>\n",
              "      <th>1</th>\n",
              "      <td>QSPD2</td>\n",
              "      <td>471283</td>\n",
              "      <td>A</td>\n",
              "      <td>IND</td>\n",
              "    </tr>\n",
              "    <tr>\n",
              "      <th>2</th>\n",
              "      <td>QSPD3</td>\n",
              "      <td>340922</td>\n",
              "      <td>A</td>\n",
              "      <td>PKN</td>\n",
              "    </tr>\n",
              "    <tr>\n",
              "      <th>3</th>\n",
              "      <td>QSPD4</td>\n",
              "      <td>201982</td>\n",
              "      <td>A</td>\n",
              "      <td>IND</td>\n",
              "    </tr>\n",
              "    <tr>\n",
              "      <th>4</th>\n",
              "      <td>QSPD5</td>\n",
              "      <td>467411</td>\n",
              "      <td>B</td>\n",
              "      <td>PKN</td>\n",
              "    </tr>\n",
              "    <tr>\n",
              "      <th>5</th>\n",
              "      <td>QSPD6</td>\n",
              "      <td>235213</td>\n",
              "      <td>B</td>\n",
              "      <td>IND</td>\n",
              "    </tr>\n",
              "    <tr>\n",
              "      <th>6</th>\n",
              "      <td>QSPD7</td>\n",
              "      <td>349655</td>\n",
              "      <td>B</td>\n",
              "      <td>PKN</td>\n",
              "    </tr>\n",
              "    <tr>\n",
              "      <th>7</th>\n",
              "      <td>QSPD8</td>\n",
              "      <td>136889</td>\n",
              "      <td>B</td>\n",
              "      <td>IND</td>\n",
              "    </tr>\n",
              "    <tr>\n",
              "      <th>8</th>\n",
              "      <td>QSPD9</td>\n",
              "      <td>202381</td>\n",
              "      <td>C</td>\n",
              "      <td>PKN</td>\n",
              "    </tr>\n",
              "    <tr>\n",
              "      <th>9</th>\n",
              "      <td>QSPD10</td>\n",
              "      <td>165088</td>\n",
              "      <td>C</td>\n",
              "      <td>IND</td>\n",
              "    </tr>\n",
              "    <tr>\n",
              "      <th>10</th>\n",
              "      <td>QSPD11</td>\n",
              "      <td>262719</td>\n",
              "      <td>C</td>\n",
              "      <td>PKN</td>\n",
              "    </tr>\n",
              "    <tr>\n",
              "      <th>11</th>\n",
              "      <td>QSPD12</td>\n",
              "      <td>238013</td>\n",
              "      <td>C</td>\n",
              "      <td>IND</td>\n",
              "    </tr>\n",
              "    <tr>\n",
              "      <th>12</th>\n",
              "      <td>QSPD13</td>\n",
              "      <td>493651</td>\n",
              "      <td>T</td>\n",
              "      <td>PKN</td>\n",
              "    </tr>\n",
              "    <tr>\n",
              "      <th>13</th>\n",
              "      <td>QSPD14</td>\n",
              "      <td>489394</td>\n",
              "      <td>T</td>\n",
              "      <td>IND</td>\n",
              "    </tr>\n",
              "    <tr>\n",
              "      <th>14</th>\n",
              "      <td>QSPD15</td>\n",
              "      <td>202417</td>\n",
              "      <td>T</td>\n",
              "      <td>PKN</td>\n",
              "    </tr>\n",
              "    <tr>\n",
              "      <th>15</th>\n",
              "      <td>QSPD16</td>\n",
              "      <td>353774</td>\n",
              "      <td>G</td>\n",
              "      <td>IND</td>\n",
              "    </tr>\n",
              "    <tr>\n",
              "      <th>16</th>\n",
              "      <td>QSPD17</td>\n",
              "      <td>367731</td>\n",
              "      <td>G</td>\n",
              "      <td>PKN</td>\n",
              "    </tr>\n",
              "    <tr>\n",
              "      <th>17</th>\n",
              "      <td>QSPD18</td>\n",
              "      <td>295396</td>\n",
              "      <td>G</td>\n",
              "      <td>IND</td>\n",
              "    </tr>\n",
              "    <tr>\n",
              "      <th>18</th>\n",
              "      <td>QSPD19</td>\n",
              "      <td>472732</td>\n",
              "      <td>G</td>\n",
              "      <td>PKN</td>\n",
              "    </tr>\n",
              "  </tbody>\n",
              "</table>\n",
              "</div>\n",
              "      <button class=\"colab-df-convert\" onclick=\"convertToInteractive('df-81aa3b4e-15c7-4a21-a061-fda40a88f8ad')\"\n",
              "              title=\"Convert this dataframe to an interactive table.\"\n",
              "              style=\"display:none;\">\n",
              "        \n",
              "  <svg xmlns=\"http://www.w3.org/2000/svg\" height=\"24px\"viewBox=\"0 0 24 24\"\n",
              "       width=\"24px\">\n",
              "    <path d=\"M0 0h24v24H0V0z\" fill=\"none\"/>\n",
              "    <path d=\"M18.56 5.44l.94 2.06.94-2.06 2.06-.94-2.06-.94-.94-2.06-.94 2.06-2.06.94zm-11 1L8.5 8.5l.94-2.06 2.06-.94-2.06-.94L8.5 2.5l-.94 2.06-2.06.94zm10 10l.94 2.06.94-2.06 2.06-.94-2.06-.94-.94-2.06-.94 2.06-2.06.94z\"/><path d=\"M17.41 7.96l-1.37-1.37c-.4-.4-.92-.59-1.43-.59-.52 0-1.04.2-1.43.59L10.3 9.45l-7.72 7.72c-.78.78-.78 2.05 0 2.83L4 21.41c.39.39.9.59 1.41.59.51 0 1.02-.2 1.41-.59l7.78-7.78 2.81-2.81c.8-.78.8-2.07 0-2.86zM5.41 20L4 18.59l7.72-7.72 1.47 1.35L5.41 20z\"/>\n",
              "  </svg>\n",
              "      </button>\n",
              "      \n",
              "  <style>\n",
              "    .colab-df-container {\n",
              "      display:flex;\n",
              "      flex-wrap:wrap;\n",
              "      gap: 12px;\n",
              "    }\n",
              "\n",
              "    .colab-df-convert {\n",
              "      background-color: #E8F0FE;\n",
              "      border: none;\n",
              "      border-radius: 50%;\n",
              "      cursor: pointer;\n",
              "      display: none;\n",
              "      fill: #1967D2;\n",
              "      height: 32px;\n",
              "      padding: 0 0 0 0;\n",
              "      width: 32px;\n",
              "    }\n",
              "\n",
              "    .colab-df-convert:hover {\n",
              "      background-color: #E2EBFA;\n",
              "      box-shadow: 0px 1px 2px rgba(60, 64, 67, 0.3), 0px 1px 3px 1px rgba(60, 64, 67, 0.15);\n",
              "      fill: #174EA6;\n",
              "    }\n",
              "\n",
              "    [theme=dark] .colab-df-convert {\n",
              "      background-color: #3B4455;\n",
              "      fill: #D2E3FC;\n",
              "    }\n",
              "\n",
              "    [theme=dark] .colab-df-convert:hover {\n",
              "      background-color: #434B5C;\n",
              "      box-shadow: 0px 1px 3px 1px rgba(0, 0, 0, 0.15);\n",
              "      filter: drop-shadow(0px 1px 2px rgba(0, 0, 0, 0.3));\n",
              "      fill: #FFFFFF;\n",
              "    }\n",
              "  </style>\n",
              "\n",
              "      <script>\n",
              "        const buttonEl =\n",
              "          document.querySelector('#df-81aa3b4e-15c7-4a21-a061-fda40a88f8ad button.colab-df-convert');\n",
              "        buttonEl.style.display =\n",
              "          google.colab.kernel.accessAllowed ? 'block' : 'none';\n",
              "\n",
              "        async function convertToInteractive(key) {\n",
              "          const element = document.querySelector('#df-81aa3b4e-15c7-4a21-a061-fda40a88f8ad');\n",
              "          const dataTable =\n",
              "            await google.colab.kernel.invokeFunction('convertToInteractive',\n",
              "                                                     [key], {});\n",
              "          if (!dataTable) return;\n",
              "\n",
              "          const docLinkHtml = 'Like what you see? Visit the ' +\n",
              "            '<a target=\"_blank\" href=https://colab.research.google.com/notebooks/data_table.ipynb>data table notebook</a>'\n",
              "            + ' to learn more about interactive tables.';\n",
              "          element.innerHTML = '';\n",
              "          dataTable['output_type'] = 'display_data';\n",
              "          await google.colab.output.renderOutput(dataTable, element);\n",
              "          const docLink = document.createElement('div');\n",
              "          docLink.innerHTML = docLinkHtml;\n",
              "          element.appendChild(docLink);\n",
              "        }\n",
              "      </script>\n",
              "    </div>\n",
              "  </div>\n",
              "  "
            ]
          },
          "metadata": {},
          "execution_count": 21
        }
      ]
    },
    {
      "cell_type": "code",
      "source": [
        "print(\"Top Elements\\n\")\n",
        "df.head(0)"
      ],
      "metadata": {
        "colab": {
          "base_uri": "https://localhost:8080/",
          "height": 84
        },
        "id": "7Gqf3Z0FROyY",
        "outputId": "f5c6c023-0b23-4672-f614-e69595af9223"
      },
      "execution_count": 22,
      "outputs": [
        {
          "output_type": "stream",
          "name": "stdout",
          "text": [
            "Top Elements\n",
            "\n"
          ]
        },
        {
          "output_type": "execute_result",
          "data": {
            "text/plain": [
              "Empty DataFrame\n",
              "Columns: [ID, Income, Category, Place]\n",
              "Index: []"
            ],
            "text/html": [
              "\n",
              "  <div id=\"df-a0f79ddc-48a1-45cc-af2d-4f9f455cd8d7\">\n",
              "    <div class=\"colab-df-container\">\n",
              "      <div>\n",
              "<style scoped>\n",
              "    .dataframe tbody tr th:only-of-type {\n",
              "        vertical-align: middle;\n",
              "    }\n",
              "\n",
              "    .dataframe tbody tr th {\n",
              "        vertical-align: top;\n",
              "    }\n",
              "\n",
              "    .dataframe thead th {\n",
              "        text-align: right;\n",
              "    }\n",
              "</style>\n",
              "<table border=\"1\" class=\"dataframe\">\n",
              "  <thead>\n",
              "    <tr style=\"text-align: right;\">\n",
              "      <th></th>\n",
              "      <th>ID</th>\n",
              "      <th>Income</th>\n",
              "      <th>Category</th>\n",
              "      <th>Place</th>\n",
              "    </tr>\n",
              "  </thead>\n",
              "  <tbody>\n",
              "  </tbody>\n",
              "</table>\n",
              "</div>\n",
              "      <button class=\"colab-df-convert\" onclick=\"convertToInteractive('df-a0f79ddc-48a1-45cc-af2d-4f9f455cd8d7')\"\n",
              "              title=\"Convert this dataframe to an interactive table.\"\n",
              "              style=\"display:none;\">\n",
              "        \n",
              "  <svg xmlns=\"http://www.w3.org/2000/svg\" height=\"24px\"viewBox=\"0 0 24 24\"\n",
              "       width=\"24px\">\n",
              "    <path d=\"M0 0h24v24H0V0z\" fill=\"none\"/>\n",
              "    <path d=\"M18.56 5.44l.94 2.06.94-2.06 2.06-.94-2.06-.94-.94-2.06-.94 2.06-2.06.94zm-11 1L8.5 8.5l.94-2.06 2.06-.94-2.06-.94L8.5 2.5l-.94 2.06-2.06.94zm10 10l.94 2.06.94-2.06 2.06-.94-2.06-.94-.94-2.06-.94 2.06-2.06.94z\"/><path d=\"M17.41 7.96l-1.37-1.37c-.4-.4-.92-.59-1.43-.59-.52 0-1.04.2-1.43.59L10.3 9.45l-7.72 7.72c-.78.78-.78 2.05 0 2.83L4 21.41c.39.39.9.59 1.41.59.51 0 1.02-.2 1.41-.59l7.78-7.78 2.81-2.81c.8-.78.8-2.07 0-2.86zM5.41 20L4 18.59l7.72-7.72 1.47 1.35L5.41 20z\"/>\n",
              "  </svg>\n",
              "      </button>\n",
              "      \n",
              "  <style>\n",
              "    .colab-df-container {\n",
              "      display:flex;\n",
              "      flex-wrap:wrap;\n",
              "      gap: 12px;\n",
              "    }\n",
              "\n",
              "    .colab-df-convert {\n",
              "      background-color: #E8F0FE;\n",
              "      border: none;\n",
              "      border-radius: 50%;\n",
              "      cursor: pointer;\n",
              "      display: none;\n",
              "      fill: #1967D2;\n",
              "      height: 32px;\n",
              "      padding: 0 0 0 0;\n",
              "      width: 32px;\n",
              "    }\n",
              "\n",
              "    .colab-df-convert:hover {\n",
              "      background-color: #E2EBFA;\n",
              "      box-shadow: 0px 1px 2px rgba(60, 64, 67, 0.3), 0px 1px 3px 1px rgba(60, 64, 67, 0.15);\n",
              "      fill: #174EA6;\n",
              "    }\n",
              "\n",
              "    [theme=dark] .colab-df-convert {\n",
              "      background-color: #3B4455;\n",
              "      fill: #D2E3FC;\n",
              "    }\n",
              "\n",
              "    [theme=dark] .colab-df-convert:hover {\n",
              "      background-color: #434B5C;\n",
              "      box-shadow: 0px 1px 3px 1px rgba(0, 0, 0, 0.15);\n",
              "      filter: drop-shadow(0px 1px 2px rgba(0, 0, 0, 0.3));\n",
              "      fill: #FFFFFF;\n",
              "    }\n",
              "  </style>\n",
              "\n",
              "      <script>\n",
              "        const buttonEl =\n",
              "          document.querySelector('#df-a0f79ddc-48a1-45cc-af2d-4f9f455cd8d7 button.colab-df-convert');\n",
              "        buttonEl.style.display =\n",
              "          google.colab.kernel.accessAllowed ? 'block' : 'none';\n",
              "\n",
              "        async function convertToInteractive(key) {\n",
              "          const element = document.querySelector('#df-a0f79ddc-48a1-45cc-af2d-4f9f455cd8d7');\n",
              "          const dataTable =\n",
              "            await google.colab.kernel.invokeFunction('convertToInteractive',\n",
              "                                                     [key], {});\n",
              "          if (!dataTable) return;\n",
              "\n",
              "          const docLinkHtml = 'Like what you see? Visit the ' +\n",
              "            '<a target=\"_blank\" href=https://colab.research.google.com/notebooks/data_table.ipynb>data table notebook</a>'\n",
              "            + ' to learn more about interactive tables.';\n",
              "          element.innerHTML = '';\n",
              "          dataTable['output_type'] = 'display_data';\n",
              "          await google.colab.output.renderOutput(dataTable, element);\n",
              "          const docLink = document.createElement('div');\n",
              "          docLink.innerHTML = docLinkHtml;\n",
              "          element.appendChild(docLink);\n",
              "        }\n",
              "      </script>\n",
              "    </div>\n",
              "  </div>\n",
              "  "
            ]
          },
          "metadata": {},
          "execution_count": 22
        }
      ]
    },
    {
      "cell_type": "code",
      "source": [
        "print(\"Bottom Elements\\n\")\n",
        "df.tail(3)"
      ],
      "metadata": {
        "colab": {
          "base_uri": "https://localhost:8080/",
          "height": 178
        },
        "id": "FYABGs99RTT0",
        "outputId": "6d794291-b1b0-43d6-cfe6-7eab7514778e"
      },
      "execution_count": 23,
      "outputs": [
        {
          "output_type": "stream",
          "name": "stdout",
          "text": [
            "Bottom Elements\n",
            "\n"
          ]
        },
        {
          "output_type": "execute_result",
          "data": {
            "text/plain": [
              "        ID  Income Category Place\n",
              "16  QSPD17  367731        G   PKN\n",
              "17  QSPD18  295396        G   IND\n",
              "18  QSPD19  472732        G   PKN"
            ],
            "text/html": [
              "\n",
              "  <div id=\"df-d3e0930f-41f2-4058-bf56-e6f2d190dab9\">\n",
              "    <div class=\"colab-df-container\">\n",
              "      <div>\n",
              "<style scoped>\n",
              "    .dataframe tbody tr th:only-of-type {\n",
              "        vertical-align: middle;\n",
              "    }\n",
              "\n",
              "    .dataframe tbody tr th {\n",
              "        vertical-align: top;\n",
              "    }\n",
              "\n",
              "    .dataframe thead th {\n",
              "        text-align: right;\n",
              "    }\n",
              "</style>\n",
              "<table border=\"1\" class=\"dataframe\">\n",
              "  <thead>\n",
              "    <tr style=\"text-align: right;\">\n",
              "      <th></th>\n",
              "      <th>ID</th>\n",
              "      <th>Income</th>\n",
              "      <th>Category</th>\n",
              "      <th>Place</th>\n",
              "    </tr>\n",
              "  </thead>\n",
              "  <tbody>\n",
              "    <tr>\n",
              "      <th>16</th>\n",
              "      <td>QSPD17</td>\n",
              "      <td>367731</td>\n",
              "      <td>G</td>\n",
              "      <td>PKN</td>\n",
              "    </tr>\n",
              "    <tr>\n",
              "      <th>17</th>\n",
              "      <td>QSPD18</td>\n",
              "      <td>295396</td>\n",
              "      <td>G</td>\n",
              "      <td>IND</td>\n",
              "    </tr>\n",
              "    <tr>\n",
              "      <th>18</th>\n",
              "      <td>QSPD19</td>\n",
              "      <td>472732</td>\n",
              "      <td>G</td>\n",
              "      <td>PKN</td>\n",
              "    </tr>\n",
              "  </tbody>\n",
              "</table>\n",
              "</div>\n",
              "      <button class=\"colab-df-convert\" onclick=\"convertToInteractive('df-d3e0930f-41f2-4058-bf56-e6f2d190dab9')\"\n",
              "              title=\"Convert this dataframe to an interactive table.\"\n",
              "              style=\"display:none;\">\n",
              "        \n",
              "  <svg xmlns=\"http://www.w3.org/2000/svg\" height=\"24px\"viewBox=\"0 0 24 24\"\n",
              "       width=\"24px\">\n",
              "    <path d=\"M0 0h24v24H0V0z\" fill=\"none\"/>\n",
              "    <path d=\"M18.56 5.44l.94 2.06.94-2.06 2.06-.94-2.06-.94-.94-2.06-.94 2.06-2.06.94zm-11 1L8.5 8.5l.94-2.06 2.06-.94-2.06-.94L8.5 2.5l-.94 2.06-2.06.94zm10 10l.94 2.06.94-2.06 2.06-.94-2.06-.94-.94-2.06-.94 2.06-2.06.94z\"/><path d=\"M17.41 7.96l-1.37-1.37c-.4-.4-.92-.59-1.43-.59-.52 0-1.04.2-1.43.59L10.3 9.45l-7.72 7.72c-.78.78-.78 2.05 0 2.83L4 21.41c.39.39.9.59 1.41.59.51 0 1.02-.2 1.41-.59l7.78-7.78 2.81-2.81c.8-.78.8-2.07 0-2.86zM5.41 20L4 18.59l7.72-7.72 1.47 1.35L5.41 20z\"/>\n",
              "  </svg>\n",
              "      </button>\n",
              "      \n",
              "  <style>\n",
              "    .colab-df-container {\n",
              "      display:flex;\n",
              "      flex-wrap:wrap;\n",
              "      gap: 12px;\n",
              "    }\n",
              "\n",
              "    .colab-df-convert {\n",
              "      background-color: #E8F0FE;\n",
              "      border: none;\n",
              "      border-radius: 50%;\n",
              "      cursor: pointer;\n",
              "      display: none;\n",
              "      fill: #1967D2;\n",
              "      height: 32px;\n",
              "      padding: 0 0 0 0;\n",
              "      width: 32px;\n",
              "    }\n",
              "\n",
              "    .colab-df-convert:hover {\n",
              "      background-color: #E2EBFA;\n",
              "      box-shadow: 0px 1px 2px rgba(60, 64, 67, 0.3), 0px 1px 3px 1px rgba(60, 64, 67, 0.15);\n",
              "      fill: #174EA6;\n",
              "    }\n",
              "\n",
              "    [theme=dark] .colab-df-convert {\n",
              "      background-color: #3B4455;\n",
              "      fill: #D2E3FC;\n",
              "    }\n",
              "\n",
              "    [theme=dark] .colab-df-convert:hover {\n",
              "      background-color: #434B5C;\n",
              "      box-shadow: 0px 1px 3px 1px rgba(0, 0, 0, 0.15);\n",
              "      filter: drop-shadow(0px 1px 2px rgba(0, 0, 0, 0.3));\n",
              "      fill: #FFFFFF;\n",
              "    }\n",
              "  </style>\n",
              "\n",
              "      <script>\n",
              "        const buttonEl =\n",
              "          document.querySelector('#df-d3e0930f-41f2-4058-bf56-e6f2d190dab9 button.colab-df-convert');\n",
              "        buttonEl.style.display =\n",
              "          google.colab.kernel.accessAllowed ? 'block' : 'none';\n",
              "\n",
              "        async function convertToInteractive(key) {\n",
              "          const element = document.querySelector('#df-d3e0930f-41f2-4058-bf56-e6f2d190dab9');\n",
              "          const dataTable =\n",
              "            await google.colab.kernel.invokeFunction('convertToInteractive',\n",
              "                                                     [key], {});\n",
              "          if (!dataTable) return;\n",
              "\n",
              "          const docLinkHtml = 'Like what you see? Visit the ' +\n",
              "            '<a target=\"_blank\" href=https://colab.research.google.com/notebooks/data_table.ipynb>data table notebook</a>'\n",
              "            + ' to learn more about interactive tables.';\n",
              "          element.innerHTML = '';\n",
              "          dataTable['output_type'] = 'display_data';\n",
              "          await google.colab.output.renderOutput(dataTable, element);\n",
              "          const docLink = document.createElement('div');\n",
              "          docLink.innerHTML = docLinkHtml;\n",
              "          element.appendChild(docLink);\n",
              "        }\n",
              "      </script>\n",
              "    </div>\n",
              "  </div>\n",
              "  "
            ]
          },
          "metadata": {},
          "execution_count": 23
        }
      ]
    },
    {
      "cell_type": "code",
      "source": [
        "print(\"Specific Coloumn\\n\")\n",
        "df['Category'].head(3)"
      ],
      "metadata": {
        "colab": {
          "base_uri": "https://localhost:8080/"
        },
        "id": "R3n-WqvQRTHr",
        "outputId": "301239bd-a178-4595-dd3f-19329a311373"
      },
      "execution_count": 24,
      "outputs": [
        {
          "output_type": "stream",
          "name": "stdout",
          "text": [
            "Specific Coloumn\n",
            "\n"
          ]
        },
        {
          "output_type": "execute_result",
          "data": {
            "text/plain": [
              "0    A\n",
              "1    A\n",
              "2    A\n",
              "Name: Category, dtype: object"
            ]
          },
          "metadata": {},
          "execution_count": 24
        }
      ]
    },
    {
      "cell_type": "code",
      "source": [
        "print(\"Replace negative numbers with NaN\\n\")\n",
        "df.replace(-999,np.nan)"
      ],
      "metadata": {
        "colab": {
          "base_uri": "https://localhost:8080/",
          "height": 680
        },
        "id": "JZ_wKXWtRS6Z",
        "outputId": "7ae80326-bf1b-4ee8-f1b7-f61ef1a5ac39"
      },
      "execution_count": 25,
      "outputs": [
        {
          "output_type": "stream",
          "name": "stdout",
          "text": [
            "Replace negative numbers with NaN\n",
            "\n"
          ]
        },
        {
          "output_type": "execute_result",
          "data": {
            "text/plain": [
              "        ID  Income Category Place\n",
              "0    QSPD1  491282        A   PKN\n",
              "1    QSPD2  471283        A   IND\n",
              "2    QSPD3  340922        A   PKN\n",
              "3    QSPD4  201982        A   IND\n",
              "4    QSPD5  467411        B   PKN\n",
              "5    QSPD6  235213        B   IND\n",
              "6    QSPD7  349655        B   PKN\n",
              "7    QSPD8  136889        B   IND\n",
              "8    QSPD9  202381        C   PKN\n",
              "9   QSPD10  165088        C   IND\n",
              "10  QSPD11  262719        C   PKN\n",
              "11  QSPD12  238013        C   IND\n",
              "12  QSPD13  493651        T   PKN\n",
              "13  QSPD14  489394        T   IND\n",
              "14  QSPD15  202417        T   PKN\n",
              "15  QSPD16  353774        G   IND\n",
              "16  QSPD17  367731        G   PKN\n",
              "17  QSPD18  295396        G   IND\n",
              "18  QSPD19  472732        G   PKN"
            ],
            "text/html": [
              "\n",
              "  <div id=\"df-3ea5f4b3-37c5-4ced-94ce-6bb00ca391a0\">\n",
              "    <div class=\"colab-df-container\">\n",
              "      <div>\n",
              "<style scoped>\n",
              "    .dataframe tbody tr th:only-of-type {\n",
              "        vertical-align: middle;\n",
              "    }\n",
              "\n",
              "    .dataframe tbody tr th {\n",
              "        vertical-align: top;\n",
              "    }\n",
              "\n",
              "    .dataframe thead th {\n",
              "        text-align: right;\n",
              "    }\n",
              "</style>\n",
              "<table border=\"1\" class=\"dataframe\">\n",
              "  <thead>\n",
              "    <tr style=\"text-align: right;\">\n",
              "      <th></th>\n",
              "      <th>ID</th>\n",
              "      <th>Income</th>\n",
              "      <th>Category</th>\n",
              "      <th>Place</th>\n",
              "    </tr>\n",
              "  </thead>\n",
              "  <tbody>\n",
              "    <tr>\n",
              "      <th>0</th>\n",
              "      <td>QSPD1</td>\n",
              "      <td>491282</td>\n",
              "      <td>A</td>\n",
              "      <td>PKN</td>\n",
              "    </tr>\n",
              "    <tr>\n",
              "      <th>1</th>\n",
              "      <td>QSPD2</td>\n",
              "      <td>471283</td>\n",
              "      <td>A</td>\n",
              "      <td>IND</td>\n",
              "    </tr>\n",
              "    <tr>\n",
              "      <th>2</th>\n",
              "      <td>QSPD3</td>\n",
              "      <td>340922</td>\n",
              "      <td>A</td>\n",
              "      <td>PKN</td>\n",
              "    </tr>\n",
              "    <tr>\n",
              "      <th>3</th>\n",
              "      <td>QSPD4</td>\n",
              "      <td>201982</td>\n",
              "      <td>A</td>\n",
              "      <td>IND</td>\n",
              "    </tr>\n",
              "    <tr>\n",
              "      <th>4</th>\n",
              "      <td>QSPD5</td>\n",
              "      <td>467411</td>\n",
              "      <td>B</td>\n",
              "      <td>PKN</td>\n",
              "    </tr>\n",
              "    <tr>\n",
              "      <th>5</th>\n",
              "      <td>QSPD6</td>\n",
              "      <td>235213</td>\n",
              "      <td>B</td>\n",
              "      <td>IND</td>\n",
              "    </tr>\n",
              "    <tr>\n",
              "      <th>6</th>\n",
              "      <td>QSPD7</td>\n",
              "      <td>349655</td>\n",
              "      <td>B</td>\n",
              "      <td>PKN</td>\n",
              "    </tr>\n",
              "    <tr>\n",
              "      <th>7</th>\n",
              "      <td>QSPD8</td>\n",
              "      <td>136889</td>\n",
              "      <td>B</td>\n",
              "      <td>IND</td>\n",
              "    </tr>\n",
              "    <tr>\n",
              "      <th>8</th>\n",
              "      <td>QSPD9</td>\n",
              "      <td>202381</td>\n",
              "      <td>C</td>\n",
              "      <td>PKN</td>\n",
              "    </tr>\n",
              "    <tr>\n",
              "      <th>9</th>\n",
              "      <td>QSPD10</td>\n",
              "      <td>165088</td>\n",
              "      <td>C</td>\n",
              "      <td>IND</td>\n",
              "    </tr>\n",
              "    <tr>\n",
              "      <th>10</th>\n",
              "      <td>QSPD11</td>\n",
              "      <td>262719</td>\n",
              "      <td>C</td>\n",
              "      <td>PKN</td>\n",
              "    </tr>\n",
              "    <tr>\n",
              "      <th>11</th>\n",
              "      <td>QSPD12</td>\n",
              "      <td>238013</td>\n",
              "      <td>C</td>\n",
              "      <td>IND</td>\n",
              "    </tr>\n",
              "    <tr>\n",
              "      <th>12</th>\n",
              "      <td>QSPD13</td>\n",
              "      <td>493651</td>\n",
              "      <td>T</td>\n",
              "      <td>PKN</td>\n",
              "    </tr>\n",
              "    <tr>\n",
              "      <th>13</th>\n",
              "      <td>QSPD14</td>\n",
              "      <td>489394</td>\n",
              "      <td>T</td>\n",
              "      <td>IND</td>\n",
              "    </tr>\n",
              "    <tr>\n",
              "      <th>14</th>\n",
              "      <td>QSPD15</td>\n",
              "      <td>202417</td>\n",
              "      <td>T</td>\n",
              "      <td>PKN</td>\n",
              "    </tr>\n",
              "    <tr>\n",
              "      <th>15</th>\n",
              "      <td>QSPD16</td>\n",
              "      <td>353774</td>\n",
              "      <td>G</td>\n",
              "      <td>IND</td>\n",
              "    </tr>\n",
              "    <tr>\n",
              "      <th>16</th>\n",
              "      <td>QSPD17</td>\n",
              "      <td>367731</td>\n",
              "      <td>G</td>\n",
              "      <td>PKN</td>\n",
              "    </tr>\n",
              "    <tr>\n",
              "      <th>17</th>\n",
              "      <td>QSPD18</td>\n",
              "      <td>295396</td>\n",
              "      <td>G</td>\n",
              "      <td>IND</td>\n",
              "    </tr>\n",
              "    <tr>\n",
              "      <th>18</th>\n",
              "      <td>QSPD19</td>\n",
              "      <td>472732</td>\n",
              "      <td>G</td>\n",
              "      <td>PKN</td>\n",
              "    </tr>\n",
              "  </tbody>\n",
              "</table>\n",
              "</div>\n",
              "      <button class=\"colab-df-convert\" onclick=\"convertToInteractive('df-3ea5f4b3-37c5-4ced-94ce-6bb00ca391a0')\"\n",
              "              title=\"Convert this dataframe to an interactive table.\"\n",
              "              style=\"display:none;\">\n",
              "        \n",
              "  <svg xmlns=\"http://www.w3.org/2000/svg\" height=\"24px\"viewBox=\"0 0 24 24\"\n",
              "       width=\"24px\">\n",
              "    <path d=\"M0 0h24v24H0V0z\" fill=\"none\"/>\n",
              "    <path d=\"M18.56 5.44l.94 2.06.94-2.06 2.06-.94-2.06-.94-.94-2.06-.94 2.06-2.06.94zm-11 1L8.5 8.5l.94-2.06 2.06-.94-2.06-.94L8.5 2.5l-.94 2.06-2.06.94zm10 10l.94 2.06.94-2.06 2.06-.94-2.06-.94-.94-2.06-.94 2.06-2.06.94z\"/><path d=\"M17.41 7.96l-1.37-1.37c-.4-.4-.92-.59-1.43-.59-.52 0-1.04.2-1.43.59L10.3 9.45l-7.72 7.72c-.78.78-.78 2.05 0 2.83L4 21.41c.39.39.9.59 1.41.59.51 0 1.02-.2 1.41-.59l7.78-7.78 2.81-2.81c.8-.78.8-2.07 0-2.86zM5.41 20L4 18.59l7.72-7.72 1.47 1.35L5.41 20z\"/>\n",
              "  </svg>\n",
              "      </button>\n",
              "      \n",
              "  <style>\n",
              "    .colab-df-container {\n",
              "      display:flex;\n",
              "      flex-wrap:wrap;\n",
              "      gap: 12px;\n",
              "    }\n",
              "\n",
              "    .colab-df-convert {\n",
              "      background-color: #E8F0FE;\n",
              "      border: none;\n",
              "      border-radius: 50%;\n",
              "      cursor: pointer;\n",
              "      display: none;\n",
              "      fill: #1967D2;\n",
              "      height: 32px;\n",
              "      padding: 0 0 0 0;\n",
              "      width: 32px;\n",
              "    }\n",
              "\n",
              "    .colab-df-convert:hover {\n",
              "      background-color: #E2EBFA;\n",
              "      box-shadow: 0px 1px 2px rgba(60, 64, 67, 0.3), 0px 1px 3px 1px rgba(60, 64, 67, 0.15);\n",
              "      fill: #174EA6;\n",
              "    }\n",
              "\n",
              "    [theme=dark] .colab-df-convert {\n",
              "      background-color: #3B4455;\n",
              "      fill: #D2E3FC;\n",
              "    }\n",
              "\n",
              "    [theme=dark] .colab-df-convert:hover {\n",
              "      background-color: #434B5C;\n",
              "      box-shadow: 0px 1px 3px 1px rgba(0, 0, 0, 0.15);\n",
              "      filter: drop-shadow(0px 1px 2px rgba(0, 0, 0, 0.3));\n",
              "      fill: #FFFFFF;\n",
              "    }\n",
              "  </style>\n",
              "\n",
              "      <script>\n",
              "        const buttonEl =\n",
              "          document.querySelector('#df-3ea5f4b3-37c5-4ced-94ce-6bb00ca391a0 button.colab-df-convert');\n",
              "        buttonEl.style.display =\n",
              "          google.colab.kernel.accessAllowed ? 'block' : 'none';\n",
              "\n",
              "        async function convertToInteractive(key) {\n",
              "          const element = document.querySelector('#df-3ea5f4b3-37c5-4ced-94ce-6bb00ca391a0');\n",
              "          const dataTable =\n",
              "            await google.colab.kernel.invokeFunction('convertToInteractive',\n",
              "                                                     [key], {});\n",
              "          if (!dataTable) return;\n",
              "\n",
              "          const docLinkHtml = 'Like what you see? Visit the ' +\n",
              "            '<a target=\"_blank\" href=https://colab.research.google.com/notebooks/data_table.ipynb>data table notebook</a>'\n",
              "            + ' to learn more about interactive tables.';\n",
              "          element.innerHTML = '';\n",
              "          dataTable['output_type'] = 'display_data';\n",
              "          await google.colab.output.renderOutput(dataTable, element);\n",
              "          const docLink = document.createElement('div');\n",
              "          docLink.innerHTML = docLinkHtml;\n",
              "          element.appendChild(docLink);\n",
              "        }\n",
              "      </script>\n",
              "    </div>\n",
              "  </div>\n",
              "  "
            ]
          },
          "metadata": {},
          "execution_count": 25
        }
      ]
    },
    {
      "cell_type": "markdown",
      "source": [
        "## Matplotlib\n",
        "Details of <a href=\"https://matplotlib.org/api/index.html\" > matplotlib </a>"
      ],
      "metadata": {
        "id": "jDrxO8EDRmaG"
      }
    },
    {
      "cell_type": "code",
      "source": [
        "import matplotlib.pyplot as plt\n",
        "import matplotlib.mlab as mlab"
      ],
      "metadata": {
        "id": "TbQ0yvr_RsPb"
      },
      "execution_count": 26,
      "outputs": []
    },
    {
      "cell_type": "markdown",
      "source": [
        "### Line Plot"
      ],
      "metadata": {
        "id": "MTRqYTVjRyoF"
      }
    },
    {
      "cell_type": "code",
      "source": [
        "# Line plot\n",
        "plt.plot([1,2,3,4],[1,4,5,6])\n",
        "plt.xlabel('some numbers')\n",
        "plt.ylabel('some numbers')\n",
        "plt.show()"
      ],
      "metadata": {
        "colab": {
          "base_uri": "https://localhost:8080/",
          "height": 449
        },
        "id": "Jzp4nGpDRsxW",
        "outputId": "cf3719e7-cc23-4223-9c63-822d11995ab1"
      },
      "execution_count": 27,
      "outputs": [
        {
          "output_type": "display_data",
          "data": {
            "text/plain": [
              "<Figure size 640x480 with 1 Axes>"
            ],
            "image/png": "[encoded data removed]"
          },
          "metadata": {}
        }
      ]
    },
    {
      "cell_type": "code",
      "source": [
        "### Adding elements to line plots\n",
        "t = np.arange(0.0, 2.0, 0.01) # Generate equally space numbers between 0 and 2\n",
        "s = 1 + np.sin(2*np.pi*t)  # Apply sin function to the random numbers\n",
        "plt.plot(t, s)\n",
        "\n",
        "plt.xlabel('time (s)')\n",
        "plt.ylabel('voltage (mV)')\n",
        "plt.title('About as simple as it gets, folks')\n",
        "plt.grid(True)\n",
        "plt.savefig(\"test.png\") # Save a plot. Check the directory\n",
        "plt.show()"
      ],
      "metadata": {
        "colab": {
          "base_uri": "https://localhost:8080/",
          "height": 472
        },
        "id": "jqcFoWGPSBaB",
        "outputId": "5e9c6274-3795-4f6b-9edb-ae64b37cc787"
      },
      "execution_count": 28,
      "outputs": [
        {
          "output_type": "display_data",
          "data": {
            "text/plain": [
              "<Figure size 640x480 with 1 Axes>"
            ],
            "image/png": "[encoded data removed]"
          },
          "metadata": {}
        }
      ]
    },
    {
      "cell_type": "markdown",
      "source": [
        "###Bar plot"
      ],
      "metadata": {
        "id": "VUYZdD52SP1B"
      }
    },
    {
      "cell_type": "code",
      "source": [
        "y = [3, 10, 7, 5, 3, 4.5, 6, 8.1]\n",
        "x = range(len(y))\n",
        "width = 1/1.5\n",
        "plt.bar(x, y, width, color=\"blue\")\n",
        "plt.show()"
      ],
      "metadata": {
        "colab": {
          "base_uri": "https://localhost:8080/",
          "height": 430
        },
        "id": "I6P3Y39zSTVY",
        "outputId": "3312a315-791a-43b7-e487-549f0b163a82"
      },
      "execution_count": 29,
      "outputs": [
        {
          "output_type": "display_data",
          "data": {
            "text/plain": [
              "<Figure size 640x480 with 1 Axes>"
            ],
            "image/png": "[encoded data removed]"
          },
          "metadata": {}
        }
      ]
    },
    {
      "cell_type": "markdown",
      "source": [
        "###Scatter plot"
      ],
      "metadata": {
        "id": "UUs3P3hTSaRI"
      }
    },
    {
      "cell_type": "code",
      "source": [
        "N = 50\n",
        "# Generate random numbers\n",
        "x = np.random.rand(N)\n",
        "y = np.random.rand(N)\n",
        "colors = np.random.rand(N)\n",
        "area = np.pi * (15*np.random.rand(N))**2  # 0 to 15 point radii\n",
        "\n",
        "plt.scatter(x, y, s=area, c=colors, alpha=0.5)\n",
        "plt.show()"
      ],
      "metadata": {
        "colab": {
          "base_uri": "https://localhost:8080/",
          "height": 430
        },
        "id": "8j3qz27OSYPJ",
        "outputId": "a8962526-1668-4a3a-c502-7af0e0a77912"
      },
      "execution_count": 30,
      "outputs": [
        {
          "output_type": "display_data",
          "data": {
            "text/plain": [
              "<Figure size 640x480 with 1 Axes>"
            ],
            "image/png": "[encoded data removed]"
          },
          "metadata": {}
        }
      ]
    },
    {
      "cell_type": "markdown",
      "source": [
        "###Histogram"
      ],
      "metadata": {
        "id": "qJflb5yvSkwe"
      }
    },
    {
      "cell_type": "code",
      "source": [
        "mu, sigma = 100, 15\n",
        "from scipy.stats import norm\n",
        "x = mu + sigma*np.random.randn(10000) # Generate random values with some distribution\n",
        "\n",
        "# the histogram of the data\n",
        "n, bins, patches = plt.hist(x, 50, density=2, facecolor='green', alpha=0.75)\n",
        "\n",
        "# add a 'best fit' line\n",
        "y = norm.pdf( bins, mu, sigma)\n",
        "l = plt.plot(bins, y, 'r--', linewidth=1)\n",
        "\n",
        "plt.xlabel('Smarts')\n",
        "plt.ylabel('Probability')\n",
        "plt.title(r'$\\mathrm{Histogram\\ of\\ IQ:}\\ \\mu=100,\\ \\sigma=15$')\n",
        "plt.axis([40, 160, 0, 0.03])\n",
        "plt.grid(True)\n",
        "\n",
        "plt.show()"
      ],
      "metadata": {
        "colab": {
          "base_uri": "https://localhost:8080/",
          "height": 474
        },
        "id": "AfxXenycSlUJ",
        "outputId": "57f5084f-27a3-494d-e3fa-ffe0d42d0804"
      },
      "execution_count": 31,
      "outputs": [
        {
          "output_type": "display_data",
          "data": {
            "text/plain": [
              "<Figure size 640x480 with 1 Axes>"
            ],
            "image/png": "[encoded data removed]"
          },
          "metadata": {}
        }
      ]
    },
    {
      "cell_type": "markdown",
      "source": [
        "###Pie Chart"
      ],
      "metadata": {
        "id": "Xu8L9s0QSxud"
      }
    },
    {
      "cell_type": "code",
      "source": [
        "# Pie chart, where the slices will be ordered and plotted counter-clockwise:\n",
        "labels = 'Frogs', 'Hogs', 'Dogs', 'Logs'\n",
        "sizes = [15, 30, 45, 10]\n",
        "explode = (0, 0.1, 0, 0)  # only \"explode\" the 2nd slice (i.e. 'Hogs')\n",
        "\n",
        "fig1, ax1 = plt.subplots()\n",
        "ax1.pie(sizes, explode=explode, labels=labels, autopct='%1.1f%%',\n",
        "        shadow=True, startangle=90)\n",
        "ax1.axis('equal')  # Equal aspect ratio ensures that pie is drawn as a circle.\n",
        "\n",
        "plt.show()"
      ],
      "metadata": {
        "colab": {
          "base_uri": "https://localhost:8080/",
          "height": 406
        },
        "id": "poR2TwJpSyOp",
        "outputId": "233696af-cb33-4758-8f05-576899b97a2f"
      },
      "execution_count": 32,
      "outputs": [
        {
          "output_type": "display_data",
          "data": {
            "text/plain": [
              "<Figure size 640x480 with 1 Axes>"
            ],
            "image/png": "[encoded data removed]"
          },
          "metadata": {}
        }
      ]
    }
  ]
}